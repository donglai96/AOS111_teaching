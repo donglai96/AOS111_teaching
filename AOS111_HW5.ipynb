{
  "nbformat": 4,
  "nbformat_minor": 0,
  "metadata": {
    "kernelspec": {
      "display_name": "Python 3",
      "language": "python",
      "name": "python3"
    },
    "language_info": {
      "codemirror_mode": {
        "name": "ipython",
        "version": 3
      },
      "file_extension": ".py",
      "mimetype": "text/x-python",
      "name": "python",
      "nbconvert_exporter": "python",
      "pygments_lexer": "ipython3",
      "version": "3.7.9"
    },
    "toc": {
      "base_numbering": 1,
      "nav_menu": {},
      "number_sections": false,
      "sideBar": true,
      "skip_h1_title": false,
      "title_cell": "Table of Contents",
      "title_sidebar": "Contents",
      "toc_cell": false,
      "toc_position": {},
      "toc_section_display": true,
      "toc_window_display": true
    },
    "colab": {
      "name": "AOS111_HW5.ipynb",
      "provenance": [],
      "collapsed_sections": []
    }
  },
  "cells": [
    {
      "cell_type": "markdown",
      "metadata": {
        "id": "vBreaJAFkAeh"
      },
      "source": [
        "# AOS 111 HW5\n"
      ]
    },
    {
      "cell_type": "markdown",
      "metadata": {
        "id": "aNM5mINckAep"
      },
      "source": [
        "## Goals\n",
        "- [ ] Use the neural network model to solve a regression problem\n",
        "- [ ] Practice using the relevant Python library functions to implement the ANN model\n",
        "- [ ] Compare a few different ML models in performing the same problem\n",
        "\n",
        "\n",
        "## Task\n",
        "- [ ] Use homework 4 as your starting point, and predict the burned area of the forest fire from the \"forest fire\" database, using a neural network model.\n",
        "- [ ] Train the model, show the predicted (on the test set) error, and show the REC curve of your neural network, similar to the SVM and random forest models you covered in HW4\n",
        "\n",
        "This week we do not restrict the library to SciKitLearn, so you may choose whichever library is your favorite.  However, if you do decide to stick with SciKitLearn, the neural network models are covered under the MLPregressor entry here: \n",
        "https://scikit-learn.org/stable/modules/generated/sklearn.neural_network.MLPRegressor.html\n",
        "\n",
        "A typcal network size might be something like:\n",
        "(input_dim,100,50,output_dim = 1)\n",
        "But do experiment and see what your favorite architecure ends up being.\n",
        "\n",
        "Created by Donglai Ma, Nov 2020\n"
      ]
    },
    {
      "cell_type": "code",
      "metadata": {
        "id": "8eFeRzDHkAet"
      },
      "source": [
        ""
      ],
      "execution_count": null,
      "outputs": []
    }
  ]
}