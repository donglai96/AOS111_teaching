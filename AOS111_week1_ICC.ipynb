{
  "nbformat": 4,
  "nbformat_minor": 0,
  "metadata": {
    "kernelspec": {
      "display_name": "Python 3",
      "language": "python",
      "name": "python3"
    },
    "language_info": {
      "codemirror_mode": {
        "name": "ipython",
        "version": 3
      },
      "file_extension": ".py",
      "mimetype": "text/x-python",
      "name": "python",
      "nbconvert_exporter": "python",
      "pygments_lexer": "ipython3",
      "version": "3.7.7"
    },
    "toc": {
      "base_numbering": 1,
      "nav_menu": {},
      "number_sections": false,
      "sideBar": true,
      "skip_h1_title": false,
      "title_cell": "Table of Contents",
      "title_sidebar": "Contents",
      "toc_cell": false,
      "toc_position": {
        "height": "calc(100% - 180px)",
        "left": "10px",
        "top": "150px",
        "width": "384px"
      },
      "toc_section_display": true,
      "toc_window_display": true
    },
    "colab": {
      "name": "AOS111_week1_ICC.ipynb",
      "provenance": [],
      "collapsed_sections": [],
      "toc_visible": true
    }
  },
  "cells": [
    {
      "cell_type": "markdown",
      "metadata": {
        "id": "oE8HcVRdmuV3"
      },
      "source": [
        "# AOS 111 week 1\n",
        "\n",
        "## Goals\n",
        "- [ ] Linear regression\n",
        "- [ ] Understand normal equation\n",
        "- [ ] Polynomial regression\n",
        "- [ ] Understand overfitting\n",
        "\n",
        "Created by Donglai Ma, August 2020\n"
      ]
    },
    {
      "cell_type": "markdown",
      "metadata": {
        "id": "Yyt92S3WmuV3"
      },
      "source": [
        "\n",
        "## Linear regression\n",
        "\n",
        "*A set of examples and exercises for understanding the linear regression model*\n"
      ]
    },
    {
      "cell_type": "markdown",
      "metadata": {
        "id": "5C9IHAnzmuV4"
      },
      "source": [
        "### Create a nonlinear dataset\n",
        "\n",
        "Here we will be learning a nonlinear model. In the real world, the data does not typically conform to a linear function, so we need to create a slightly nonlinear function to generate our 1D data set and add some noise.\n",
        "\n",
        "We start with a sinusoidal function which we will try to approximate using polynomial regression."
      ]
    },
    {
      "cell_type": "markdown",
      "metadata": {
        "id": "7clO-MblmuV4"
      },
      "source": [
        "#### Noise in the dataset\n",
        "numpy uses the 'random' function to generate random samples, here we use [numpy.random.normal](https://docs.scipy.org/doc/numpy-1.15.0/reference/generated/numpy.random.normal.html) to add our noise. The random samples follow a normal (Gaussian) distribution."
      ]
    },
    {
      "cell_type": "markdown",
      "metadata": {
        "id": "j7IHvggBmuV5"
      },
      "source": [
        "#### Training dataset and test dataset\n",
        "We want the model to generalize well to data it has not seen previously,so we seprate the total data, make regression on the training set and evaluate on the test set.\n",
        "One easy way is to use sklearn function: [train_test_split](https://scikit-learn.org/stable/modules/generated/sklearn.model_selection.train_test_split.html)"
      ]
    },
    {
      "cell_type": "code",
      "metadata": {
        "id": "CrmA-r1emuV5",
        "outputId": "b67ad18a-44fb-4589-8bff-009a8ec3a2d5",
        "colab": {
          "base_uri": "https://localhost:8080/",
          "height": 265
        }
      },
      "source": [
        "# Prepare the dataset\n",
        "import numpy as np\n",
        "import matplotlib.pyplot as plt\n",
        "from sklearn.model_selection import train_test_split\n",
        "\n",
        "# Prepare the function of 'fake' dataset\n",
        "m = 100  # number of total samples\n",
        "\n",
        "test_size = 0.2  # test dataset ~ 20%\n",
        "\n",
        "x = np.random.rand(m)  # get random data(x_0,x_1,..., x_{m-1})\n",
        "\n",
        "f = np.sin(4*x)\n",
        "\n",
        "noise = np.random.normal(0, 0.2, x.shape)  # add some noise\n",
        "\n",
        "y = f + noise\n",
        "\n",
        "# Split the dataset\n",
        "x_train, x_test, y_train, y_test = train_test_split(x, y, test_size=test_size)\n",
        "\n",
        "# Plot the result\n",
        "p_train = plt.scatter(x_train, y_train, marker='+', c='b', label='train')\n",
        "p_test = plt.scatter(x_test, y_test, marker='o', c='r', label='test')\n",
        "\n",
        "x_line = np.linspace(0, 1)\n",
        "p_real = plt.plot(x_line, np.sin( 4*x_line),\n",
        "                  label='real function')  # plot the real sin(4x)\n",
        "plt.legend()\n",
        "plt.show()"
      ],
      "execution_count": 15,
      "outputs": [
        {
          "output_type": "display_data",
          "data": {
            "image/png": "[encoded data removed]",
            "text/plain": [
              "<Figure size 432x288 with 1 Axes>"
            ]
          },
          "metadata": {
            "tags": [],
            "needs_background": "light"
          }
        }
      ]
    },
    {
      "cell_type": "markdown",
      "metadata": {
        "id": "ISKaZ1IcmuV8"
      },
      "source": [
        "### Linear model\n",
        "\n",
        "$\\hat{y}=h_{\\boldsymbol{\\theta}}(\\boldsymbol{x})=\\boldsymbol{\\theta} \\cdot \\boldsymbol{x}=\\theta_{0} x_{0}+\\theta_{1} x_{1}+\\ldots+\\theta_{i} x_{i}+\\ldots+\\theta_{n} x_{n}=\\boldsymbol{\\theta}^{T} \\boldsymbol{x}$\n",
        "\n",
        "\n",
        "$\\hat{y}$ is the predicted value\\\n",
        "$n$ is the number of features (1 in the linear model case)\\\n",
        "$x_i$ is the $i^{th}$ feature value ($x_0 = 1$ always)\\\n",
        "$\\theta_i$ is the $i^{th}$ parameter value ($\\theta_0$ is the bias term)\\\n",
        "$\\boldsymbol{x}$ is the feature vector\\\n",
        "$\\boldsymbol{\\theta}$ is the parameter vector\\\n",
        "$h_{\\boldsymbol{\\theta}}$ is the hypothesis function with model parameters $\\boldsymbol{\\theta}$\\\n",
        "$\\boldsymbol{\\theta}^{T}$ is transpose of (column vector) $\\boldsymbol{\\theta}$\n",
        "\n",
        "\n",
        "\n"
      ]
    },
    {
      "cell_type": "markdown",
      "metadata": {
        "id": "Xeqnu22PmuV8"
      },
      "source": [
        "#### Create the design matrix \n",
        "\n",
        "We have one feature in this dataset, so for the linear model:\n",
        "$\\hat{y}=h_{\\boldsymbol{\\theta}}(\\boldsymbol{x})=\\boldsymbol{\\theta} \\cdot \\boldsymbol{x}=\\theta_{0} x_{0}+\\theta_{1} x_{1}=\\boldsymbol{\\theta}^{T} \\boldsymbol{x}$\n",
        "\n",
        "Now we create the design matrix $\\mathbf{X}$ so $\\mathbf{X} \\boldsymbol{\\theta}=\\mathbf{Y}$\n"
      ]
    },
    {
      "cell_type": "markdown",
      "metadata": {
        "id": "V9AzsWIhmuV9"
      },
      "source": [
        "##### Tips: The dimension of the array is important\n",
        "$\\mathbf{X}$ is the matrix consists of the training samples $x^{i}$, and $\\mathbf{Y}$ is the matrix of the model outputs\n",
        "$$  \\left[\\begin{matrix}\n",
        " 1      & x_1^{(1)}    & \\cdots & x_n^{(1)}      \\\\\n",
        " 1      & x_1^{(2)}    & \\cdots & x_n^{(2)}      \\\\\n",
        " \\vdots & \\vdots       & \\vdots & \\vdots         \\\\\n",
        " 1      & x_1^{(m)}    & \\cdots & x_n^{(m)}      \\\\\n",
        "\\end{matrix}\\right] \\cdot\n",
        "\\left[\\begin{matrix}\n",
        "\\theta_0 \\\\ \\theta_1 \\\\\\vdots \\\\ \\theta_n\n",
        "\\end{matrix}\n",
        "\\right]  = \n",
        "\\left[\\begin{matrix}\n",
        "y^{(1)} \\\\ y^{(2)} \\\\\\vdots \\\\ y^{(m)}\n",
        "\\end{matrix}\n",
        "\\right] \n",
        "$$\n",
        "In this problem, m is the numbers of training samples, and n = 1.\n",
        "So the shape of X is (m,2), the shape of theta is (2,1) and the shape of Y is (m,1)"
      ]
    },
    {
      "cell_type": "code",
      "metadata": {
        "scrolled": true,
        "id": "BYJD8YE-muV9",
        "outputId": "fa3aa11c-b7ac-47d6-80e4-3d2650db593f",
        "colab": {
          "base_uri": "https://localhost:8080/",
          "height": 382
        }
      },
      "source": [
        "# Create that design matrix:\n",
        "# What we need to do is add x_0 which usually is a column of 1's and reshape the matrix\n",
        "\n",
        "\n",
        "##############################\n",
        "#Your function start here\n",
        "def addfeature(x):\n",
        "    \"\"\"\n",
        "    @x : array of training samples\n",
        "    @return: array of X \n",
        "    \"\"\"\n",
        "    m = len(x)\n",
        "    x_1 = x.reshape(m, 1)\n",
        "    x_0 = np.ones((m, 1))\n",
        "\n",
        "    X_array = np.hstack((x_0, x_1))\n",
        "\n",
        "    return X_array\n",
        "\n",
        "\n",
        "##############################\n",
        "\n",
        "# Test your function\n",
        "\n",
        "X_train = addfeature(x_train)\n",
        "X_test = addfeature(x_test)\n",
        "\n",
        "print(X_test.shape)\n",
        "print(X_test)"
      ],
      "execution_count": 16,
      "outputs": [
        {
          "output_type": "stream",
          "text": [
            "(20, 2)\n",
            "[[1.         0.41043333]\n",
            " [1.         0.64360069]\n",
            " [1.         0.394788  ]\n",
            " [1.         0.72711764]\n",
            " [1.         0.73386165]\n",
            " [1.         0.30985335]\n",
            " [1.         0.8543422 ]\n",
            " [1.         0.36248789]\n",
            " [1.         0.98302212]\n",
            " [1.         0.46572234]\n",
            " [1.         0.57187923]\n",
            " [1.         0.11441291]\n",
            " [1.         0.41215101]\n",
            " [1.         0.85010667]\n",
            " [1.         0.4235299 ]\n",
            " [1.         0.86703118]\n",
            " [1.         0.33589239]\n",
            " [1.         0.98575801]\n",
            " [1.         0.63524411]\n",
            " [1.         0.58129337]]\n"
          ],
          "name": "stdout"
        }
      ]
    },
    {
      "cell_type": "markdown",
      "metadata": {
        "id": "kuROhO3pmuV_"
      },
      "source": [
        "#### In-Class Coding: PART A: Solving the normal equation\n",
        "\n",
        "The estimated value of ${\\theta}$ is \n",
        "$$\\widehat{\\boldsymbol{\\theta}}=\\left(\\mathbf{X}^{T} \\mathbf{X}\\right)^{-1} \\mathbf{X}^{T} \\mathbf{Y}$$"
      ]
    },
    {
      "cell_type": "code",
      "metadata": {
        "id": "r-TJWudLmuWA",
        "outputId": "2b7978f7-18f2-4ce3-fc36-ddf8cbcffd39",
        "colab": {
          "base_uri": "https://localhost:8080/",
          "height": 52
        }
      },
      "source": [
        "# Create a funtion to calculate theta\n",
        "# Remember how to calculate the inverse and transpose of matrix\n",
        "\n",
        "\n",
        "##############################\n",
        "#Your function start here\n",
        "def solvenormal(X, Y):\n",
        "    \"\"\"\n",
        "    @X : design matrix X\n",
        "    @Y : design matrix Y\n",
        "    @return: array of theta\n",
        "    \"\"\"\n",
        "    theta = 99999.9999\n",
        "    return theta\n",
        "\n",
        "\n",
        "##############################\n",
        "\n",
        "X = np.matrix(X_train)\n",
        "Y = y_train.reshape(len(y_train), 1)\n",
        "theta_hat = solvenormal(X, Y)\n",
        "print(theta_hat)"
      ],
      "execution_count": 17,
      "outputs": [
        {
          "output_type": "stream",
          "text": [
            "[[ 0.90996317]\n",
            " [-1.1409549 ]]\n"
          ],
          "name": "stdout"
        }
      ]
    },
    {
      "cell_type": "markdown",
      "metadata": {
        "id": "zR89TXiCmuWB"
      },
      "source": [
        "#### Check the model performance\n",
        "\n",
        "We first plot the scatter of the training data set, then plot the model function to check the performance"
      ]
    },
    {
      "cell_type": "code",
      "metadata": {
        "id": "lEefnwTZmuWC",
        "outputId": "735a71da-e1e6-4392-9921-8517712c7500",
        "colab": {
          "base_uri": "https://localhost:8080/",
          "height": 265
        }
      },
      "source": [
        "# Add feature to x_plot and make it to the matrix\n",
        "x_plot = np.linspace(0, 1)\n",
        "x_plot_vec = addfeature(x_plot)\n",
        "\n",
        "p_train = plt.scatter(x_train, y_train, marker='+', c='b', label='train')\n",
        "p_test = plt.scatter(x_test, y_test, marker='o', c='r', label='test')\n",
        "p_function = plt.plot(x_plot,\n",
        "                      np.matrix(x_plot_vec) * theta_hat,\n",
        "                      'g',\n",
        "                      label='model')\n",
        "\n",
        "plt.legend()\n",
        "plt.show()"
      ],
      "execution_count": 18,
      "outputs": [
        {
          "output_type": "display_data",
          "data": {
            "image/png": "[encoded data removed]",
            "text/plain": [
              "<Figure size 432x288 with 1 Axes>"
            ]
          },
          "metadata": {
            "tags": [],
            "needs_background": "light"
          }
        }
      ]
    },
    {
      "cell_type": "markdown",
      "metadata": {
        "id": "GCk3XzdNmuWE"
      },
      "source": [
        "## Polynomial regression\n",
        "\n",
        "$\\hat{y}=h_{\\boldsymbol{\\theta}}(\\boldsymbol{\\phi})=\\boldsymbol{\\theta} \\cdot \\boldsymbol{\\phi}=\\theta_{0} \\phi_{0}+\\theta_{1} \\phi_{1}+\\ldots+\\theta_{i} \\phi_{i}+\\ldots+\\theta_{n} \\phi_{n}=\\boldsymbol{\\theta}^{T} \\boldsymbol{\\phi}$\n",
        "\n",
        "In this problem we set $\\phi_i = x_1^i $\n"
      ]
    },
    {
      "cell_type": "code",
      "metadata": {
        "id": "lHwg9d3KmuWE",
        "outputId": "e63f6430-f128-4597-c0bb-9f14b42374c8",
        "colab": {
          "base_uri": "https://localhost:8080/",
          "height": 34
        }
      },
      "source": [
        "# Similar to addfeature\n",
        "# You could see the robustness of the code is important\n",
        "def addpoly(x, n):\n",
        "    \"\"\"\n",
        "    @x: array of training samples\n",
        "    @n: order of the input  \n",
        "    @return: design matrix X \n",
        "    \"\"\"\n",
        "\n",
        "    x_vec = np.zeros((len(x), n + 1))\n",
        "    for i in range(n + 1):\n",
        "        x_vec[:, i] = x**i\n",
        "    return x_vec\n",
        "\n",
        "\n",
        "# Test of the addpoly function\n",
        "test_poly = addpoly(x_test, 4)\n",
        "print(test_poly.shape)"
      ],
      "execution_count": 19,
      "outputs": [
        {
          "output_type": "stream",
          "text": [
            "(20, 5)\n"
          ],
          "name": "stdout"
        }
      ]
    },
    {
      "cell_type": "markdown",
      "metadata": {
        "id": "dcmQARuTmuWG"
      },
      "source": [
        "Now we would like to check performance of different order, and the expression of the function.\n",
        "\n",
        "Remember $$sin(4x)=4x-\\frac{(4x)^{3}}{3 !}+\\frac{(4x)^{5}}{5 !}-\\frac{(4x)^{7}}{7 !}+\\cdots$$"
      ]
    },
    {
      "cell_type": "code",
      "metadata": {
        "id": "rSr8B8mLmuWH",
        "outputId": "ddb9d682-534b-42c9-cd13-e12ee977571b",
        "colab": {
          "base_uri": "https://localhost:8080/",
          "height": 34
        }
      },
      "source": [
        "4**7/np.math.factorial(7)"
      ],
      "execution_count": 20,
      "outputs": [
        {
          "output_type": "execute_result",
          "data": {
            "text/plain": [
              "3.250793650793651"
            ]
          },
          "metadata": {
            "tags": []
          },
          "execution_count": 20
        }
      ]
    },
    {
      "cell_type": "code",
      "metadata": {
        "id": "5_oCpoVlmuWI",
        "outputId": "ae9e2dbe-f8a1-4c91-e751-55460a56e4ee",
        "colab": {
          "base_uri": "https://localhost:8080/",
          "height": 36
        }
      },
      "source": [
        "# Based on your result theta, output an expression of the function you learned.\n",
        "# Remember Phi_i = x1^i\n",
        "\n",
        "\n",
        "def outexpression(theta):\n",
        "    \"\"\"\n",
        "    @theta: The theta hat values,remember that theta is a matrix\n",
        "    #return: output an expression of the theta\n",
        "    \"\"\"\n",
        "    theta_array = np.array(theta).squeeze()\n",
        "\n",
        "    expression = 'y = '\n",
        "    for i in range(len(theta_array) - 1, -1, -1):\n",
        "        expression_new = \"{:.2f}\" + \"*x^\" + \"{:.0f}\"\n",
        "\n",
        "        expression += expression_new.format(theta_array[i], i)\n",
        "        if i is not 0:\n",
        "            expression += '+'\n",
        "    return expression\n",
        "\n",
        "\n",
        "# Test the expression\n",
        "outexpression(theta_hat)"
      ],
      "execution_count": 21,
      "outputs": [
        {
          "output_type": "execute_result",
          "data": {
            "application/vnd.google.colaboratory.intrinsic+json": {
              "type": "string"
            },
            "text/plain": [
              "'y = -1.14*x^1+0.91*x^0'"
            ]
          },
          "metadata": {
            "tags": []
          },
          "execution_count": 21
        }
      ]
    },
    {
      "cell_type": "code",
      "metadata": {
        "id": "aKb6nwPemuWK",
        "outputId": "c5c5dc31-dfaf-42db-aff5-e32eece8a6ca",
        "colab": {
          "base_uri": "https://localhost:8080/",
          "height": 424
        }
      },
      "source": [
        "# IN CLASS CODING: PART B\n",
        "#\n",
        "# Show different order results\n",
        "order_max = 15\n",
        "for i in range(1, order_max + 1, 2):\n",
        "    %   \n",
        "    % 1. CREATE THE DESIGN MATRIX WITH COLUMNS REPRESENTING HIGHER ORDER POLYNOMIAL TERMS\n",
        "    % phi_vec = ...\n",
        "    %  \n",
        "    % 2. SOLVE THE NORMAL EQUATION FOR THE MODEL PARAMETER VECTOR\n",
        "    % theta_i = ...\n",
        "    %\n",
        "    % 3. PRINT THE POLYNOMIAL EXPRESSION USING THE OUTEXPRESSION FUNCTION ABOVE\n",
        "    % print(...)\n",
        "    % \n",
        "    %\n",
        "    x_plot_vec = addpoly(x_plot, i)\n",
        "    plt.plot(x_plot, np.matrix(x_plot_vec) * theta_i, label='order%d' % i)\n",
        "\n",
        "p_train = plt.scatter(x_train, y_train, marker='+', c='b')\n",
        "p_test = plt.scatter(x_test, y_test, marker='o', c='r')\n",
        "plt.legend()\n",
        "plt.show()"
      ],
      "execution_count": 22,
      "outputs": [
        {
          "output_type": "stream",
          "text": [
            "y = -1.14*x^1+0.91*x^0\n",
            "y = 3.46*x^3+-10.18*x^2+5.98*x^1+-0.04*x^0\n",
            "y = 8.06*x^5+-14.64*x^4+10.13*x^3+-9.57*x^2+5.32*x^1+0.00*x^0\n",
            "y = 233.00*x^7+-909.14*x^6+1416.86*x^5+-1113.40*x^4+459.79*x^3+-100.49*x^2+12.77*x^1+-0.13*x^0\n",
            "y = 4007.44*x^9+-18229.90*x^8+34893.69*x^7+-36594.79*x^6+22955.13*x^5+-8816.50*x^4+2029.88*x^3+-265.34*x^2+19.91*x^1+-0.20*x^0\n",
            "y = -37754.44*x^11+203486.94*x^10+-468770.86*x^9+601235.02*x^8+-467863.88*x^7+224761.61*x^6+-64004.22*x^5+9153.53*x^4+-128.27*x^3+-132.87*x^2+16.76*x^1+-0.19*x^0\n",
            "y = 10248.40*x^13+-71353.23*x^12+192386.93*x^11+-247955.79*x^10+123955.10*x^9+60450.97*x^8+-121781.11*x^7+70731.87*x^6+-17477.47*x^5+22.18*x^4+953.93*x^3+-200.94*x^2+18.50*x^1+-0.20*x^0\n",
            "y = 65946.88*x^15+-410584.94*x^14+1081704.25*x^13+-1561698.50*x^12+1336539.56*x^11+-700497.62*x^10+275416.12*x^9+-175574.19*x^8+160214.50*x^7+-107809.23*x^6+48280.46*x^5+-14414.47*x^4+2774.32*x^3+-319.27*x^2+21.59*x^1+-0.21*x^0\n"
          ],
          "name": "stdout"
        },
        {
          "output_type": "display_data",
          "data": {
            "image/png": "[encoded data removed]",
            "text/plain": [
              "<Figure size 432x288 with 1 Axes>"
            ]
          },
          "metadata": {
            "tags": [],
            "needs_background": "light"
          }
        }
      ]
    },
    {
      "cell_type": "markdown",
      "metadata": {
        "id": "utAgqxLGm9RO"
      },
      "source": [
        "You can see that those coefficients turn out to be very large, and we will talk about how to solve this next week."
      ]
    },
    {
      "cell_type": "code",
      "metadata": {
        "id": "y0Q2NH_MmuWM"
      },
      "source": [
        ""
      ],
      "execution_count": 22,
      "outputs": []
    }
  ]
}