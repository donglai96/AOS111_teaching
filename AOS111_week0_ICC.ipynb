{
  "nbformat": 4,
  "nbformat_minor": 0,
  "metadata": {
    "colab": {
      "name": "AOS111_week0_ICC.ipynb",
      "provenance": [],
      "collapsed_sections": [],
      "toc_visible": true
    },
    "kernelspec": {
      "display_name": "Python 3",
      "language": "python",
      "name": "python3"
    },
    "language_info": {
      "codemirror_mode": {
        "name": "ipython",
        "version": 3
      },
      "file_extension": ".py",
      "mimetype": "text/x-python",
      "name": "python",
      "nbconvert_exporter": "python",
      "pygments_lexer": "ipython3",
      "version": "3.7.7"
    },
    "toc": {
      "base_numbering": 1,
      "nav_menu": {},
      "number_sections": false,
      "sideBar": true,
      "skip_h1_title": false,
      "title_cell": "Table of Contents",
      "title_sidebar": "Contents",
      "toc_cell": false,
      "toc_position": {},
      "toc_section_display": true,
      "toc_window_display": true
    }
  },
  "cells": [
    {
      "cell_type": "markdown",
      "metadata": {
        "colab_type": "text",
        "id": "RMJrv9_GItp6"
      },
      "source": [
        "# AOS111 week 0 \n",
        "## Goals\n",
        "- [ ] To familiarize ourselves with the Google Colab environment\n",
        "- [ ] Python, Notebooks\n",
        "- [ ] Common numpy commands\n",
        "- [ ] Common matplotlib commands\n",
        "\n",
        "Created by Donglai Ma, August 2020\n"
      ]
    },
    {
      "cell_type": "markdown",
      "metadata": {
        "colab_type": "text",
        "id": "y5uXy__YKjgB"
      },
      "source": [
        "## Numpy \n",
        "[Numpy](https://numpy.org/) is the core library used for scientific computing in Python. It provides a high-performance, multidimensional array object, and tools for working with these arrays. It is used extensively in Machine Learning and will be the main library used in our class."
      ]
    },
    {
      "cell_type": "markdown",
      "metadata": {
        "colab_type": "text",
        "id": "XWNjaF5sMmm5"
      },
      "source": [
        "### Introduction to Arrays\n",
        "A numpy array is a grid of values, all of the same type, and is indexed by a tuple (i.e., sequence) of nonnegative integers. The number of dimensions is the $rank$ of the array; the $shape$ of an array is a tuple of integers giving the size of the array along each dimension.\n",
        "\n",
        "We can initialize numpy arrays from nested Python lists, and access elements using square brackets.  Here are a few examples of common usage:"
      ]
    },
    {
      "cell_type": "code",
      "metadata": {
        "colab_type": "code",
        "id": "_aBzXvSeIsrw",
        "colab": {
          "base_uri": "https://localhost:8080/",
          "height": 121
        },
        "outputId": "b623c7b2-41fc-4546-ebde-46ed2b3dc335"
      },
      "source": [
        "import numpy as np\n",
        "\n",
        "a = np.array([1, 2, 3])  # Create a 1-dimension array (1, 2, 3)\n",
        "print(type(a))  # Prints \"<class 'numpy.ndarray'>\"\n",
        "print(a.shape)  # Prints \"(3,)\"\n",
        "print(a[0], a[1], a[2])  # Prints \"1 2 3\" (please note indexing always starts at 0, not 1)\n",
        "a[0] = 5  # Change an element of the array\n",
        "print(a)  # Prints \"[5, 2, 3]\"\n",
        "\n",
        "b = np.array([[1, 2, 3], [4, 5, 6]])  # Create a 2-dimension array\n",
        "print(b.shape)  # Prints \"(2, 3)\"\n",
        "print(b[0, 0], b[0, 1], b[1, 0])  # Prints \"1 2 4\"\n",
        "\n",
        "# # Get a row of this 2d array\n",
        "# print(b[0])                        # Prints \"[1 2 3]\"\n",
        "# print(type(b[0]))                  # Prints \"<class 'numpy.ndarray'>\"\n",
        "# print(b[0].shape)                  # Prints \"(3,)\"\n",
        "\n",
        "# # How would you get a column of the array b?"
      ],
      "execution_count": 30,
      "outputs": [
        {
          "output_type": "stream",
          "text": [
            "<class 'numpy.ndarray'>\n",
            "(3,)\n",
            "1 2 3\n",
            "[5 2 3]\n",
            "(2, 3)\n",
            "1 2 4\n"
          ],
          "name": "stdout"
        }
      ]
    },
    {
      "cell_type": "markdown",
      "metadata": {
        "colab_type": "text",
        "id": "2tzm4Gn_RvEH"
      },
      "source": [
        "There are also many different ways to [create arrays](https://numpy.org/doc/stable/user/basics.creation.html#arrays-creation):\n",
        "\n",
        "\n",
        "\n"
      ]
    },
    {
      "cell_type": "code",
      "metadata": {
        "colab_type": "code",
        "id": "T0E06GmEVgaV",
        "colab": {
          "base_uri": "https://localhost:8080/",
          "height": 121
        },
        "outputId": "83fe2c54-10af-417c-c22e-72a72c57ce1c"
      },
      "source": [
        "import numpy as np\n",
        "\n",
        "a = np.arange(0, 7, 1)  # Create an array from 0 to 7\n",
        "                        # [0,7) with step = 1\n",
        "print(a)  # Prints \"[0 1 2 3 4 5 6]\"\n",
        "\n",
        "b = np.ones((2, 3))  # Create an array of all ones\n",
        "print(b)             # Prints \"[[1. 1. 1.]\n",
        "                     #         [1. 1. 1.]]\"\n",
        "\n",
        "c = np.random.random((3, 4))  # Create and random array with shape(3,4)\n",
        "print(c)"
      ],
      "execution_count": 16,
      "outputs": [
        {
          "output_type": "stream",
          "text": [
            "[0 1 2 3 4 5 6]\n",
            "[[1. 1. 1.]\n",
            " [1. 1. 1.]]\n",
            "[[0.10381612 0.81154859 0.51360876 0.37029587]\n",
            " [0.94900309 0.67334704 0.08363567 0.64194969]\n",
            " [0.34210994 0.13167322 0.59641799 0.06341133]]\n"
          ],
          "name": "stdout"
        }
      ]
    },
    {
      "cell_type": "markdown",
      "metadata": {
        "colab_type": "text",
        "id": "NDlRU227aIIM"
      },
      "source": [
        "\n",
        "### Indexing\n",
        "Indexing into arrays gives us methods to manipulate values.\n",
        "\n",
        "Similar to Python lists and Matlab, numpy arrays can be sliced.\n"
      ]
    },
    {
      "cell_type": "code",
      "metadata": {
        "colab_type": "code",
        "id": "eCRHqxi0V36a",
        "colab": {
          "base_uri": "https://localhost:8080/",
          "height": 86
        },
        "outputId": "1ea07788-780b-4e16-f9f2-877e563fac6f"
      },
      "source": [
        "import numpy as np\n",
        "\n",
        "# Create the following rank 2 array with shape (3, 4)\n",
        "# [[ 1  2  3  4]\n",
        "#  [ 5  6  7  8]\n",
        "#  [ 9 10 11 12]]\n",
        "a = np.array([[1, 2, 3, 4], [5, 6, 7, 8], [9, 10, 11, 12]])\n",
        "\n",
        "# Use slicing to pull out the subarray consisting of the first 2 rows\n",
        "# and columns 1 and 2; b is the following array of shape (2, 2):\n",
        "# [[2 3]\n",
        "#  [6 7]]\n",
        "b = a[:2, 1:3]\n",
        "# A slice of an array is a view into the same data, so modifying it\n",
        "# will modify the original array.\n",
        "print(a[0, 1])  # Prints \"2\"\n",
        "b[0, 0] = 77  # b[0, 0] is the same piece of data as a[0, 1]\n",
        "print(a[0, 1])  # Prints \"77\"\n",
        "\n",
        "#########################################\n",
        "# Two ways of accessing the data in the middle row of the array.\n",
        "# Mixing integer indexing with slices yields an array of lower rank,\n",
        "# while using only slices yields an array of the same rank as the\n",
        "# original array:\n",
        "row_r1 = a[1, :]  # Rank 1 view of the second row of a\n",
        "row_r2 = a[1:2, :]  # Rank 2 view of the second row of a\n",
        "print(row_r1, row_r1.shape)  # Prints \"[5 6 7 8] (4,)\"\n",
        "print(row_r2, row_r2.shape)  # Prints \"[[5 6 7 8]] (1, 4)\""
      ],
      "execution_count": 17,
      "outputs": [
        {
          "output_type": "stream",
          "text": [
            "2\n",
            "77\n",
            "[5 6 7 8] (4,)\n",
            "[[5 6 7 8]] (1, 4)\n"
          ],
          "name": "stdout"
        }
      ]
    },
    {
      "cell_type": "markdown",
      "metadata": {
        "colab_type": "text",
        "id": "knIeoi2jhw1S"
      },
      "source": [
        "#### Boolean array indexing\n",
        "Boolean array indexing is used to select the elements of an array that satisfy some condition:"
      ]
    },
    {
      "cell_type": "code",
      "metadata": {
        "colab_type": "code",
        "id": "VKes5N69eHOY",
        "colab": {
          "base_uri": "https://localhost:8080/",
          "height": 139
        },
        "outputId": "879e2522-d9d7-4826-b8cb-7e4c387557f2"
      },
      "source": [
        "import numpy as np\n",
        "\n",
        "a = np.array([[1, 2, 3, 4], [10, 20, 30, 40], [100, 200, 300, 400]])\n",
        "print(a)\n",
        "\n",
        "# Find the elements that are bigger than 11\n",
        "bool_idx = (a > 11)\n",
        "print(bool_idx)  # Prints \"[[False False False False]\n",
        "                 #          [False  True  True  True]\n",
        "                 #          [ True  True  True  True]]\"\n",
        "\n",
        "# We use boolean array indexing to construct a rank 1 array\n",
        "# consisting of the elements of a corresponding to the True values\n",
        "# of bool_idx\n",
        "print(a[bool_idx])  # Prints \"[ 20  30  40 100 200 300 400]\""
      ],
      "execution_count": 18,
      "outputs": [
        {
          "output_type": "stream",
          "text": [
            "[[  1   2   3   4]\n",
            " [ 10  20  30  40]\n",
            " [100 200 300 400]]\n",
            "[[False False False False]\n",
            " [False  True  True  True]\n",
            " [ True  True  True  True]]\n",
            "[ 20  30  40 100 200 300 400]\n"
          ],
          "name": "stdout"
        }
      ]
    },
    {
      "cell_type": "markdown",
      "metadata": {
        "colab_type": "text",
        "id": "GT3wzlIcmcf_"
      },
      "source": [
        "### Array math"
      ]
    },
    {
      "cell_type": "code",
      "metadata": {
        "colab_type": "code",
        "id": "KwJqKGn3jezB",
        "colab": {
          "base_uri": "https://localhost:8080/",
          "height": 330
        },
        "outputId": "196a3e46-8167-4947-b499-c4e67c9b41fd"
      },
      "source": [
        "import numpy as np\n",
        "\n",
        "x = np.array([[1, 2], [3, 4]], dtype=np.float64)\n",
        "y = np.array([[5, 6], [7, 8]], dtype=np.float64)\n",
        "\n",
        "# Elementwise sum; both produce the array\n",
        "# [[ 6.0  8.0]\n",
        "#  [10.0 12.0]]\n",
        "print(x + y)\n",
        "print(np.add(x, y))\n",
        "\n",
        "# Elementwise difference; both produce the array\n",
        "# [[-4.0 -4.0]\n",
        "#  [-4.0 -4.0]]\n",
        "print(x - y)\n",
        "print(np.subtract(x, y))\n",
        "\n",
        "# Elementwise product; both produce the array\n",
        "# [[ 5.0 12.0]\n",
        "#  [21.0 32.0]]\n",
        "print(x * y)\n",
        "print(np.multiply(x, y))\n",
        "\n",
        "# Elementwise division; both produce the array\n",
        "# [[ 0.2         0.33333333]\n",
        "#  [ 0.42857143  0.5       ]]\n",
        "print(x / y)\n",
        "print(np.divide(x, y))\n",
        "\n",
        "# Elementwise square root; produces the array\n",
        "# [[ 1.          1.41421356]\n",
        "#  [ 1.73205081  2.        ]]\n",
        "print(np.sqrt(x))"
      ],
      "execution_count": 19,
      "outputs": [
        {
          "output_type": "stream",
          "text": [
            "[[ 6.  8.]\n",
            " [10. 12.]]\n",
            "[[ 6.  8.]\n",
            " [10. 12.]]\n",
            "[[-4. -4.]\n",
            " [-4. -4.]]\n",
            "[[-4. -4.]\n",
            " [-4. -4.]]\n",
            "[[ 5. 12.]\n",
            " [21. 32.]]\n",
            "[[ 5. 12.]\n",
            " [21. 32.]]\n",
            "[[0.2        0.33333333]\n",
            " [0.42857143 0.5       ]]\n",
            "[[0.2        0.33333333]\n",
            " [0.42857143 0.5       ]]\n",
            "[[1.         1.41421356]\n",
            " [1.73205081 2.        ]]\n"
          ],
          "name": "stdout"
        }
      ]
    },
    {
      "cell_type": "markdown",
      "metadata": {
        "colab_type": "text",
        "id": "m3snE9qLnKHd"
      },
      "source": [
        "#### Matrix product and transpose"
      ]
    },
    {
      "cell_type": "code",
      "metadata": {
        "colab_type": "code",
        "id": "B4E6g2v3niVX",
        "colab": {
          "base_uri": "https://localhost:8080/",
          "height": 156
        },
        "outputId": "91846570-600a-422c-f39a-a8a4aaaa847e"
      },
      "source": [
        "import numpy as np\n",
        "\n",
        "x = np.array([[1,2],[3,4]])\n",
        "y = np.array([[5,6],[7,8]])\n",
        "\n",
        "v = np.array([9,10])\n",
        "w = np.array([11, 12])\n",
        "\n",
        "# Inner product of vectors; both produce 219\n",
        "print(v.dot(w))\n",
        "print(np.dot(v, w))\n",
        "\n",
        "# Matrix / vector product; both produce the rank 1 array [29 67]\n",
        "print(x.dot(v))\n",
        "print(np.dot(x, v))\n",
        "\n",
        "# Matrix / matrix product; both produce the rank 2 array\n",
        "# [[19 22]\n",
        "#  [43 50]]\n",
        "print(x.dot(y))\n",
        "print(np.dot(x, y))"
      ],
      "execution_count": 20,
      "outputs": [
        {
          "output_type": "stream",
          "text": [
            "219\n",
            "219\n",
            "[29 67]\n",
            "[29 67]\n",
            "[[19 22]\n",
            " [43 50]]\n",
            "[[19 22]\n",
            " [43 50]]\n"
          ],
          "name": "stdout"
        }
      ]
    },
    {
      "cell_type": "code",
      "metadata": {
        "colab_type": "code",
        "id": "pjBjajnjnrem",
        "colab": {
          "base_uri": "https://localhost:8080/",
          "height": 121
        },
        "outputId": "65849be9-7aa6-464f-c761-16b2cce66c80"
      },
      "source": [
        "import numpy as np\n",
        "\n",
        "x = np.array([[1,2], [3,4]])\n",
        "print(x)    # Prints \"[[1 2]\n",
        "            #          [3 4]]\"\n",
        "print(x.T)  # Prints \"[[1 3]\n",
        "            #          [2 4]]\"\n",
        "\n",
        "# Note that taking the transpose of a rank 1 array does nothing:\n",
        "v = np.array([1,2,3])\n",
        "print(v)    # Prints \"[1 2 3]\"\n",
        "print(v.T)  # Prints \"[1 2 3]\"\n",
        "\n"
      ],
      "execution_count": 21,
      "outputs": [
        {
          "output_type": "stream",
          "text": [
            "[[1 2]\n",
            " [3 4]]\n",
            "[[1 3]\n",
            " [2 4]]\n",
            "[1 2 3]\n",
            "[1 2 3]\n"
          ],
          "name": "stdout"
        }
      ]
    },
    {
      "cell_type": "markdown",
      "metadata": {
        "colab_type": "text",
        "id": "kq2Nwoqmnm2H"
      },
      "source": [
        "### Broadcasting\n",
        "Broadcasting is a powerful mechanism that allows numpy to work with arrays of different shapes when performing arithmetic operations. Frequently we have a smaller array and a larger array, and we want to use the smaller array multiple times to perform some operation on the larger array."
      ]
    },
    {
      "cell_type": "code",
      "metadata": {
        "colab_type": "code",
        "id": "ismdET_zqTgf",
        "colab": {
          "base_uri": "https://localhost:8080/",
          "height": 173
        },
        "outputId": "78893483-e024-4ed9-bdae-0602dea74505"
      },
      "source": [
        "import numpy as np\n",
        "\n",
        "a = np.array([[1,2,3,4], [5,6,7,8], [9,10,11,12]])\n",
        "b = a + 1\n",
        "print(b)          # Prints \"[[ 2  3  4  5]\n",
        "                  #          [ 6  7  8  9]\n",
        "                  #          [10 11 12 13]]\"\n",
        "\n",
        "c = np.ones(4)    # Creates [1,1,1,1]\n",
        "d = a + c\n",
        "print(d)\n",
        "\n",
        "e = np.array([[1],[1],[1]])\n",
        "f = a + e\n",
        "print(f)"
      ],
      "execution_count": 22,
      "outputs": [
        {
          "output_type": "stream",
          "text": [
            "[[ 2  3  4  5]\n",
            " [ 6  7  8  9]\n",
            " [10 11 12 13]]\n",
            "[[ 2.  3.  4.  5.]\n",
            " [ 6.  7.  8.  9.]\n",
            " [10. 11. 12. 13.]]\n",
            "[[ 2  3  4  5]\n",
            " [ 6  7  8  9]\n",
            " [10 11 12 13]]\n"
          ],
          "name": "stdout"
        }
      ]
    },
    {
      "cell_type": "markdown",
      "metadata": {
        "colab_type": "text",
        "id": "WZN5K5jvsg1F"
      },
      "source": [
        "Broadcasting two arrays together follows these rules:\n",
        "\n",
        "\n",
        "1.   If the arrays do not have the same rank, prepend the shape of the lower rank array with 1s until both shapes have the same length.\n",
        "2.   The two arrays are said to be compatible in a dimension if they have the same size in the dimension, or if one of the arrays has size 1 in that dimension.\n",
        "3.   The arrays can be broadcast together if they are compatible in all dimensions.\n",
        "4.   After broadcasting, each array behaves as if it had shape equal to the elementwise maximum of shapes of the two input arrays.\n",
        "5.   In any dimension where one array had size 1 and the other array had size greater than 1, the first array behaves as if it were copied along that dimension"
      ]
    },
    {
      "cell_type": "markdown",
      "metadata": {
        "colab_type": "text",
        "id": "oalgEPvZtHjF"
      },
      "source": [
        "## In-class Coding\n",
        "\n",
        "1. Create a matrix and calculate it's determinant use the methods above\n",
        "$$\\begin{pmatrix} 50 & 60 & 70 \\\\ 60 & 70 & 80 \\\\ 70 & 80 & 90  \\end{pmatrix}$$\n",
        "Make sure it's robust when you want to use your function to calculate other 3*3 matrix\n",
        "\n",
        "2. Could you google a function provided by numpy to calculate the det of matrix?"
      ]
    },
    {
      "cell_type": "code",
      "metadata": {
        "colab_type": "code",
        "id": "6ayVsKqSx3k1",
        "colab": {
          "base_uri": "https://localhost:8080/",
          "height": 52
        },
        "outputId": "246ff312-639b-423e-f55a-b07eaddf4085"
      },
      "source": [
        "# Your code start here\n",
        "\n",
        "\n",
        "def det_33(a):\n",
        "    \"\"\"\n",
        "    @a: input 3x3 array\n",
        "    @return: value of det(a)\n",
        "    \n",
        "    \"\"\"\n",
        "  \n",
        "    a_det = 99999.9999\n",
        "    return a_det\n",
        "\n",
        "# Check your det value here\n",
        "a = np.array([[50,60,70],[60,70,80],[70,80,90]])\n",
        "print(det_33(a))\n",
        "\n",
        "\n",
        "print(np.linalg.det(a))"
      ],
      "execution_count": 23,
      "outputs": [
        {
          "output_type": "stream",
          "text": [
            "99999.9999\n",
            "0.0\n"
          ],
          "name": "stdout"
        }
      ]
    },
    {
      "cell_type": "markdown",
      "metadata": {
        "id": "LII4EKQQmOW0",
        "colab_type": "text"
      },
      "source": [
        "If you run this on your own computer but not google colab, there is difference between these two results! Here is a more interesting effect:\n",
        "\n"
      ]
    },
    {
      "cell_type": "code",
      "metadata": {
        "colab_type": "code",
        "id": "roUIO88Lws5A",
        "colab": {
          "base_uri": "https://localhost:8080/",
          "height": 34
        },
        "outputId": "a3179614-419f-4631-c8a2-ae7f2a07d508"
      },
      "source": [
        "a = 4.2\n",
        "b = 2.1\n",
        "a+b,(a+b)==6.3"
      ],
      "execution_count": 24,
      "outputs": [
        {
          "output_type": "execute_result",
          "data": {
            "text/plain": [
              "(6.300000000000001, False)"
            ]
          },
          "metadata": {
            "tags": []
          },
          "execution_count": 24
        }
      ]
    },
    {
      "cell_type": "markdown",
      "metadata": {
        "id": "3BVjYpDGmOW2",
        "colab_type": "text"
      },
      "source": [
        "Since Python’s float data type stores data using the native representation, there’s nothing you can do to avoid such errors.Generally speaking, if you want to present 0.4 in binary, it's 0.011001100110............\n",
        "\n",
        "We don't need to worry this effect in this machine learning class, but do careful about this when you'd like to do some high performance scientific problem!"
      ]
    },
    {
      "cell_type": "markdown",
      "metadata": {
        "id": "7HWVIZBBmOW2",
        "colab_type": "text"
      },
      "source": [
        "## Matplotlib\n",
        "\n",
        "[Matplotlib](https://matplotlib.org/) is a plotting library. In this section give a brief introduction to the matplotlib.pyplot module, which provides a plotting system similar to that of MATLAB. You could find anything you need [here](https://matplotlib.org/tutorials/introductory/pyplot.html)."
      ]
    },
    {
      "cell_type": "code",
      "metadata": {
        "id": "185EDPNRmOW3",
        "colab_type": "code",
        "colab": {
          "base_uri": "https://localhost:8080/",
          "height": 265
        },
        "outputId": "a90d8112-cedc-40f5-8623-89affefd4516"
      },
      "source": [
        "import matplotlib.pyplot as plt\n",
        "\n",
        "a = np.array([3,2,5,6,8,5,3])\n",
        "plt.plot(a)\n",
        "plt.show()"
      ],
      "execution_count": 25,
      "outputs": [
        {
          "output_type": "display_data",
          "data": {
            "image/png": "[encoded data removed]",
            "text/plain": [
              "<Figure size 432x288 with 1 Axes>"
            ]
          },
          "metadata": {
            "tags": [],
            "needs_background": "light"
          }
        }
      ]
    },
    {
      "cell_type": "code",
      "metadata": {
        "id": "i9P6K0J5mOW4",
        "colab_type": "code",
        "colab": {
          "base_uri": "https://localhost:8080/",
          "height": 295
        },
        "outputId": "14c18e99-c20a-4b7b-c089-00a0e7ef7c0c"
      },
      "source": [
        "x = np.arange(15)\n",
        "y1 = np.sin(0.5*x)\n",
        "y2 = np.cos(0.5*x)\n",
        "plt.plot(x,y1, 'o--', markersize=10, linewidth=1.2, color='r',label='Sin')\n",
        "plt.plot(x,y2, 's--', markersize=10, linewidth=1.2, color='k', label='Cos')\n",
        "plt.yticks([-1, 0, 1])\n",
        "plt.xlabel('x')\n",
        "plt.ylabel('y')\n",
        "plt.title('Sin and Cos')\n",
        "plt.legend()\n",
        "plt.show()"
      ],
      "execution_count": 26,
      "outputs": [
        {
          "output_type": "display_data",
          "data": {
            "image/png": "[encoded data removed]",
            "text/plain": [
              "<Figure size 432x288 with 1 Axes>"
            ]
          },
          "metadata": {
            "tags": [],
            "needs_background": "light"
          }
        }
      ]
    },
    {
      "cell_type": "code",
      "metadata": {
        "id": "vNAKx3YwmOW6",
        "colab_type": "code",
        "colab": {
          "base_uri": "https://localhost:8080/",
          "height": 295
        },
        "outputId": "0d3f3c5a-c2aa-48e7-87a9-e9a1f1facf46"
      },
      "source": [
        "# Subplot\n",
        "import numpy as np\n",
        "import matplotlib.pyplot as plt\n",
        "\n",
        "# Data for plotting\n",
        "x1 = np.linspace(0.0, 5.0)\n",
        "x2 = np.linspace(0.0, 2.0)\n",
        "y1 = np.cos(2 * np.pi * x1) * np.exp(-x1)\n",
        "y2 = np.cos(2 * np.pi * x2)\n",
        "\n",
        "# Create two subplots sharing y axis\n",
        "fig, (ax1, ax2) = plt.subplots(2, sharey=True)\n",
        "\n",
        "ax1.plot(x1, y1, 'ko-')\n",
        "ax1.set(title='A tale of 2 subplots', ylabel='Damped oscillation')\n",
        "\n",
        "ax2.plot(x2, y2, 'r.-')\n",
        "ax2.set(xlabel='time (s)', ylabel='Undamped')\n",
        "\n",
        "plt.show()"
      ],
      "execution_count": 27,
      "outputs": [
        {
          "output_type": "display_data",
          "data": {
            "image/png": "[encoded data removed]",
            "text/plain": [
              "<Figure size 432x288 with 2 Axes>"
            ]
          },
          "metadata": {
            "tags": [],
            "needs_background": "light"
          }
        }
      ]
    },
    {
      "cell_type": "code",
      "metadata": {
        "id": "q1BicSSsmOW8",
        "colab_type": "code",
        "colab": {}
      },
      "source": [
        ""
      ],
      "execution_count": 27,
      "outputs": []
    }
  ]
}