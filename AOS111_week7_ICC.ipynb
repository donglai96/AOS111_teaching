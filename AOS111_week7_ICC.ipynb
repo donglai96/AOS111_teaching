{
  "nbformat": 4,
  "nbformat_minor": 0,
  "metadata": {
    "kernelspec": {
      "display_name": "Python 3",
      "language": "python",
      "name": "python3"
    },
    "language_info": {
      "codemirror_mode": {
        "name": "ipython",
        "version": 3
      },
      "file_extension": ".py",
      "mimetype": "text/x-python",
      "name": "python",
      "nbconvert_exporter": "python",
      "pygments_lexer": "ipython3",
      "version": "3.7.9"
    },
    "toc": {
      "base_numbering": 1,
      "nav_menu": {},
      "number_sections": false,
      "sideBar": true,
      "skip_h1_title": false,
      "title_cell": "Table of Contents",
      "title_sidebar": "Contents",
      "toc_cell": false,
      "toc_position": {
        "height": "calc(100% - 180px)",
        "left": "10px",
        "top": "150px",
        "width": "165px"
      },
      "toc_section_display": true,
      "toc_window_display": true
    },
    "colab": {
      "name": "AOS111_week7_ICC.ipynb",
      "provenance": [],
      "collapsed_sections": []
    }
  },
  "cells": [
    {
      "cell_type": "markdown",
      "metadata": {
        "id": "l9XUNlEknVEU"
      },
      "source": [
        "# AOS111 week7\n",
        "## Goals\n",
        "- [ ] To implement a simple neural network model from scratch\n",
        "- [ ] To understand the backpropagation algorithm\n",
        "- [ ] Meet the famous MNIST dataset and the Tensorflow library\n",
        "- [ ] ICC PART A: Implement the derivatives expression\n",
        "- [ ] ICC PART B: Train the neural net (fit the parameters*)\n",
        "\n",
        "*Please note this notebook can take several minutes to run during training\n",
        "\n",
        "  Created by Donglai Ma, November 2020"
      ]
    },
    {
      "cell_type": "markdown",
      "metadata": {
        "id": "4IRC8yN6nVEi"
      },
      "source": [
        "## Neural network from scratch\n",
        "This week we are going to implement a simple neural network from scratch! We are going to build our network for digit recongnition which is a popular starter problem in machine learning."
      ]
    },
    {
      "cell_type": "markdown",
      "metadata": {
        "id": "lKzDMRM2nVEm"
      },
      "source": [
        "### MNIST dataset\n",
        "The MNIST dataset is a famous dataset for digit recognition in machine learning.Think of it as the 'hello world' dataset for computer vision problems. You can find raw data and more information about this data set [here](http://yann.lecun.com/exdb/mnist/).\n",
        "Remember that each sample is a 28x28 digital greyscale image."
      ]
    },
    {
      "cell_type": "code",
      "metadata": {
        "id": "nuJJhl5_nVEs",
        "outputId": "22d73bc5-8d1e-48af-fe43-3496b991f082",
        "colab": {
          "base_uri": "https://localhost:8080/"
        }
      },
      "source": [
        "### Load the MNIST dataset\n",
        "from sklearn.datasets import fetch_openml\n",
        "\n",
        "# This could take a few seconds\n",
        "# This method of sklearn already did flatten, so you could see the shape of X is 784 = 28*28\n",
        "X, y = fetch_openml('mnist_784', version=1, return_X_y=True)\n",
        "print(X.shape)\n",
        "print(y.shape)\n"
      ],
      "execution_count": 1,
      "outputs": [
        {
          "output_type": "stream",
          "text": [
            "(70000, 784)\n",
            "(70000,)\n"
          ],
          "name": "stdout"
        }
      ]
    },
    {
      "cell_type": "code",
      "metadata": {
        "id": "lGRWz5SAnVE9",
        "outputId": "81a77ee3-8c42-42b3-fe04-33cdaecd0139",
        "colab": {
          "base_uri": "https://localhost:8080/",
          "height": 1000
        }
      },
      "source": [
        "import matplotlib.pyplot as plt\n",
        "#reshape the dataset back to 28 * 28\n",
        "X_plot = X.reshape((len(X),28,28))\n",
        "for i in range(9):  \n",
        "    plt.subplot(330 + 1 + i)\n",
        "    plt.imshow(X_plot[i], cmap=plt.get_cmap('gray'))\n",
        "    plt.show()\n",
        "    print(\"The target value is :\",y[i])"
      ],
      "execution_count": 2,
      "outputs": [
        {
          "output_type": "display_data",
          "data": {
            "image/png": "[encoded data removed]",
            "text/plain": [
              "<Figure size 432x288 with 1 Axes>"
            ]
          },
          "metadata": {
            "tags": [],
            "needs_background": "light"
          }
        },
        {
          "output_type": "stream",
          "text": [
            "The target value is : 5\n"
          ],
          "name": "stdout"
        },
        {
          "output_type": "display_data",
          "data": {
            "image/png": "[encoded data removed]",
            "text/plain": [
              "<Figure size 432x288 with 1 Axes>"
            ]
          },
          "metadata": {
            "tags": [],
            "needs_background": "light"
          }
        },
        {
          "output_type": "stream",
          "text": [
            "The target value is : 0\n"
          ],
          "name": "stdout"
        },
        {
          "output_type": "display_data",
          "data": {
            "image/png": "[encoded data removed]",
            "text/plain": [
              "<Figure size 432x288 with 1 Axes>"
            ]
          },
          "metadata": {
            "tags": [],
            "needs_background": "light"
          }
        },
        {
          "output_type": "stream",
          "text": [
            "The target value is : 4\n"
          ],
          "name": "stdout"
        },
        {
          "output_type": "display_data",
          "data": {
            "image/png": "[encoded data removed]",
            "text/plain": [
              "<Figure size 432x288 with 1 Axes>"
            ]
          },
          "metadata": {
            "tags": [],
            "needs_background": "light"
          }
        },
        {
          "output_type": "stream",
          "text": [
            "The target value is : 1\n"
          ],
          "name": "stdout"
        },
        {
          "output_type": "display_data",
          "data": {
            "image/png": "[encoded data removed]",
            "text/plain": [
              "<Figure size 432x288 with 1 Axes>"
            ]
          },
          "metadata": {
            "tags": [],
            "needs_background": "light"
          }
        },
        {
          "output_type": "stream",
          "text": [
            "The target value is : 9\n"
          ],
          "name": "stdout"
        },
        {
          "output_type": "display_data",
          "data": {
            "image/png": "[encoded data removed]",
            "text/plain": [
              "<Figure size 432x288 with 1 Axes>"
            ]
          },
          "metadata": {
            "tags": [],
            "needs_background": "light"
          }
        },
        {
          "output_type": "stream",
          "text": [
            "The target value is : 2\n"
          ],
          "name": "stdout"
        },
        {
          "output_type": "display_data",
          "data": {
            "image/png": "[encoded data removed]",
            "text/plain": [
              "<Figure size 432x288 with 1 Axes>"
            ]
          },
          "metadata": {
            "tags": [],
            "needs_background": "light"
          }
        },
        {
          "output_type": "stream",
          "text": [
            "The target value is : 1\n"
          ],
          "name": "stdout"
        },
        {
          "output_type": "display_data",
          "data": {
            "image/png": "[encoded data removed]",
            "text/plain": [
              "<Figure size 432x288 with 1 Axes>"
            ]
          },
          "metadata": {
            "tags": [],
            "needs_background": "light"
          }
        },
        {
          "output_type": "stream",
          "text": [
            "The target value is : 3\n"
          ],
          "name": "stdout"
        },
        {
          "output_type": "display_data",
          "data": {
            "image/png": "[encoded data removed]",
            "text/plain": [
              "<Figure size 432x288 with 1 Axes>"
            ]
          },
          "metadata": {
            "tags": [],
            "needs_background": "light"
          }
        },
        {
          "output_type": "stream",
          "text": [
            "The target value is : 1\n"
          ],
          "name": "stdout"
        }
      ]
    },
    {
      "cell_type": "markdown",
      "metadata": {
        "heading_collapsed": true,
        "id": "a2NQK0lhnVFH"
      },
      "source": [
        "### The sturcture of our network\n",
        "The basic problem is we have an input image coming into the neural network, and the output is going to be a guess of which digit is represented in the image.\n",
        "So we will have a 784 neuron input layer (that's just 28x28=784) and the output layer is 10, where each of the outputs represents the propability for each class (i.e., which digit the network thinks that the input image represents)."
      ]
    },
    {
      "cell_type": "markdown",
      "metadata": {
        "id": "glbkXf4mnVFJ"
      },
      "source": [
        "### Data preprocessing step"
      ]
    },
    {
      "cell_type": "code",
      "metadata": {
        "id": "4FCYsPDknVFL",
        "outputId": "1a061392-cf9e-4da4-d6bb-52d43b260013",
        "colab": {
          "base_uri": "https://localhost:8080/"
        }
      },
      "source": [
        "## Data preprocessing\n",
        "# The X array is in the range 0-255 which represents either a color in RGB or a greyscale intensity (it depends on the colormap we choose to use).\n",
        "# For this problem, we need to rescale the data so its in the range 0-1, i.e., divide by 255.\n",
        "\n",
        "from sklearn.model_selection import train_test_split\n",
        "import numpy as np\n",
        "print(X[0])\n",
        "X_input = X/255.0\n",
        "\n",
        "from sklearn.preprocessing import OneHotEncoder\n",
        "labels  = np.array(y).reshape(len(y), -1)\n",
        "enc = OneHotEncoder()\n",
        "enc.fit(labels)\n",
        "targets = enc.transform(labels).toarray()\n",
        "\n",
        "print(targets[0:9])\n",
        "# You could check it with '504292131'\n",
        "\n",
        "# Split the data\n",
        "x_train, x_test, y_train, y_test = train_test_split(X_input, targets, test_size=0.15, random_state=0)"
      ],
      "execution_count": 3,
      "outputs": [
        {
          "output_type": "stream",
          "text": [
            "[  0.   0.   0.   0.   0.   0.   0.   0.   0.   0.   0.   0.   0.   0.\n",
            "   0.   0.   0.   0.   0.   0.   0.   0.   0.   0.   0.   0.   0.   0.\n",
            "   0.   0.   0.   0.   0.   0.   0.   0.   0.   0.   0.   0.   0.   0.\n",
            "   0.   0.   0.   0.   0.   0.   0.   0.   0.   0.   0.   0.   0.   0.\n",
            "   0.   0.   0.   0.   0.   0.   0.   0.   0.   0.   0.   0.   0.   0.\n",
            "   0.   0.   0.   0.   0.   0.   0.   0.   0.   0.   0.   0.   0.   0.\n",
            "   0.   0.   0.   0.   0.   0.   0.   0.   0.   0.   0.   0.   0.   0.\n",
            "   0.   0.   0.   0.   0.   0.   0.   0.   0.   0.   0.   0.   0.   0.\n",
            "   0.   0.   0.   0.   0.   0.   0.   0.   0.   0.   0.   0.   0.   0.\n",
            "   0.   0.   0.   0.   0.   0.   0.   0.   0.   0.   0.   0.   0.   0.\n",
            "   0.   0.   0.   0.   0.   0.   0.   0.   0.   0.   0.   0.   3.  18.\n",
            "  18.  18. 126. 136. 175.  26. 166. 255. 247. 127.   0.   0.   0.   0.\n",
            "   0.   0.   0.   0.   0.   0.   0.   0.  30.  36.  94. 154. 170. 253.\n",
            " 253. 253. 253. 253. 225. 172. 253. 242. 195.  64.   0.   0.   0.   0.\n",
            "   0.   0.   0.   0.   0.   0.   0.  49. 238. 253. 253. 253. 253. 253.\n",
            " 253. 253. 253. 251.  93.  82.  82.  56.  39.   0.   0.   0.   0.   0.\n",
            "   0.   0.   0.   0.   0.   0.   0.  18. 219. 253. 253. 253. 253. 253.\n",
            " 198. 182. 247. 241.   0.   0.   0.   0.   0.   0.   0.   0.   0.   0.\n",
            "   0.   0.   0.   0.   0.   0.   0.   0.  80. 156. 107. 253. 253. 205.\n",
            "  11.   0.  43. 154.   0.   0.   0.   0.   0.   0.   0.   0.   0.   0.\n",
            "   0.   0.   0.   0.   0.   0.   0.   0.   0.  14.   1. 154. 253.  90.\n",
            "   0.   0.   0.   0.   0.   0.   0.   0.   0.   0.   0.   0.   0.   0.\n",
            "   0.   0.   0.   0.   0.   0.   0.   0.   0.   0.   0. 139. 253. 190.\n",
            "   2.   0.   0.   0.   0.   0.   0.   0.   0.   0.   0.   0.   0.   0.\n",
            "   0.   0.   0.   0.   0.   0.   0.   0.   0.   0.   0.  11. 190. 253.\n",
            "  70.   0.   0.   0.   0.   0.   0.   0.   0.   0.   0.   0.   0.   0.\n",
            "   0.   0.   0.   0.   0.   0.   0.   0.   0.   0.   0.   0.  35. 241.\n",
            " 225. 160. 108.   1.   0.   0.   0.   0.   0.   0.   0.   0.   0.   0.\n",
            "   0.   0.   0.   0.   0.   0.   0.   0.   0.   0.   0.   0.   0.  81.\n",
            " 240. 253. 253. 119.  25.   0.   0.   0.   0.   0.   0.   0.   0.   0.\n",
            "   0.   0.   0.   0.   0.   0.   0.   0.   0.   0.   0.   0.   0.   0.\n",
            "  45. 186. 253. 253. 150.  27.   0.   0.   0.   0.   0.   0.   0.   0.\n",
            "   0.   0.   0.   0.   0.   0.   0.   0.   0.   0.   0.   0.   0.   0.\n",
            "   0.  16.  93. 252. 253. 187.   0.   0.   0.   0.   0.   0.   0.   0.\n",
            "   0.   0.   0.   0.   0.   0.   0.   0.   0.   0.   0.   0.   0.   0.\n",
            "   0.   0.   0. 249. 253. 249.  64.   0.   0.   0.   0.   0.   0.   0.\n",
            "   0.   0.   0.   0.   0.   0.   0.   0.   0.   0.   0.   0.   0.   0.\n",
            "  46. 130. 183. 253. 253. 207.   2.   0.   0.   0.   0.   0.   0.   0.\n",
            "   0.   0.   0.   0.   0.   0.   0.   0.   0.   0.   0.   0.  39. 148.\n",
            " 229. 253. 253. 253. 250. 182.   0.   0.   0.   0.   0.   0.   0.   0.\n",
            "   0.   0.   0.   0.   0.   0.   0.   0.   0.   0.  24. 114. 221. 253.\n",
            " 253. 253. 253. 201.  78.   0.   0.   0.   0.   0.   0.   0.   0.   0.\n",
            "   0.   0.   0.   0.   0.   0.   0.   0.  23.  66. 213. 253. 253. 253.\n",
            " 253. 198.  81.   2.   0.   0.   0.   0.   0.   0.   0.   0.   0.   0.\n",
            "   0.   0.   0.   0.   0.   0.  18. 171. 219. 253. 253. 253. 253. 195.\n",
            "  80.   9.   0.   0.   0.   0.   0.   0.   0.   0.   0.   0.   0.   0.\n",
            "   0.   0.   0.   0.  55. 172. 226. 253. 253. 253. 253. 244. 133.  11.\n",
            "   0.   0.   0.   0.   0.   0.   0.   0.   0.   0.   0.   0.   0.   0.\n",
            "   0.   0.   0.   0. 136. 253. 253. 253. 212. 135. 132.  16.   0.   0.\n",
            "   0.   0.   0.   0.   0.   0.   0.   0.   0.   0.   0.   0.   0.   0.\n",
            "   0.   0.   0.   0.   0.   0.   0.   0.   0.   0.   0.   0.   0.   0.\n",
            "   0.   0.   0.   0.   0.   0.   0.   0.   0.   0.   0.   0.   0.   0.\n",
            "   0.   0.   0.   0.   0.   0.   0.   0.   0.   0.   0.   0.   0.   0.\n",
            "   0.   0.   0.   0.   0.   0.   0.   0.   0.   0.   0.   0.   0.   0.\n",
            "   0.   0.   0.   0.   0.   0.   0.   0.   0.   0.   0.   0.   0.   0.\n",
            "   0.   0.   0.   0.   0.   0.   0.   0.   0.   0.   0.   0.   0.   0.]\n",
            "[[0. 0. 0. 0. 0. 1. 0. 0. 0. 0.]\n",
            " [1. 0. 0. 0. 0. 0. 0. 0. 0. 0.]\n",
            " [0. 0. 0. 0. 1. 0. 0. 0. 0. 0.]\n",
            " [0. 1. 0. 0. 0. 0. 0. 0. 0. 0.]\n",
            " [0. 0. 0. 0. 0. 0. 0. 0. 0. 1.]\n",
            " [0. 0. 1. 0. 0. 0. 0. 0. 0. 0.]\n",
            " [0. 1. 0. 0. 0. 0. 0. 0. 0. 0.]\n",
            " [0. 0. 0. 1. 0. 0. 0. 0. 0. 0.]\n",
            " [0. 1. 0. 0. 0. 0. 0. 0. 0. 0.]]\n"
          ],
          "name": "stdout"
        }
      ]
    },
    {
      "cell_type": "markdown",
      "metadata": {
        "id": "FwawK1rXnVFU"
      },
      "source": [
        "### Model initialization\n",
        "\n",
        "*Please note that we are going to build a class to implement and demonstrate the network, so you will only need to add code in the final block. The individual functions below are broken out for ease of reading*\n",
        "\n",
        "If you look at our network, we are going to build a 3-layer network which means we have 2 groups of 'lines' between these neurons and they represent the parameters of our neural network.\n",
        "\n",
        "If we set the hidden layer size as 50\n",
        "Notice here the \n",
        "\n",
        "W1 shape is (50,784),W2 shape is (10,50)\n",
        "               \n",
        "b1 shape is (50，1), b2 shape is (10,1)\n",
        "                \n",
        "Assume you have *m* samples for X and each sample is a column vector. so X is of dimension: (784, m)\n",
        "So $Z_1 =  W_1 X + b$ ( remember when one shape of b is 1, it will broadcast from (50,1) to (50,m))\n"
      ]
    },
    {
      "cell_type": "code",
      "metadata": {
        "id": "fczb4jXsnVFV"
      },
      "source": [
        " def initialize(self):\n",
        "    np.random.seed(1)\n",
        "\n",
        "    for l in range(1, len(self.layers_shape)):\n",
        "        self.parameters[\"W\" + str(l)] = np.random.randn(self.layers_shape[l], self.layers_shape[l - 1]) / np.sqrt(\n",
        "            self.layers_shape[l - 1])\n",
        "        self.parameters[\"b\" + str(l)] = np.zeros((self.layers_shape[l], 1))"
      ],
      "execution_count": 4,
      "outputs": []
    },
    {
      "cell_type": "markdown",
      "metadata": {
        "id": "xHVGZT9mnVFb"
      },
      "source": [
        "### Forward propagation\n",
        "For each neuron, it has input from the previous layer of neurons (multiplied by the parameter matrix) and it needs an activation function, to 'excite' it to get the output.\n",
        "\n",
        "If we are using sigmoid as the activation function, then the output will be $\\sigma(z)$ where $z = w \\cdot x$\n",
        "\n",
        "For a sigmoid function: $\\sigma(z) = \\frac{1}{1+e^{-z}}$\n",
        "\n",
        "\n",
        "For easy coding I do not put b into that function, but you are welcome to modify that part of the code, although it shouldn't affect the main idea of our algorithm.\n",
        "\n",
        "Note: It's different for the last layer. We want to return a probability value, such that all probabilities sum to 1,so \n",
        "**For the last layer, the activation function is chosen to be softmax (for a reminder, please check lecture 3.3)**\n",
        "\n",
        "$$\n",
        "\\begin{aligned}\n",
        "a_{i} &=\\frac{c e^{z_{i}}}{c \\sum_{k=1}^{c} e^{z_{k}}} \\\\\n",
        "&=\\frac{e^{z_{i}+\\log c}}{\\sum_{k=1}^{c} e^{z_{k}}+\\log c}\n",
        "\\end{aligned}\n",
        "$$\n",
        "Usually \n",
        "$$\n",
        "a_{i}=\\frac{e^{z_{i}-\\max (z)}}{\\sum_{k=1}^{c} e^{z_{k}-\\max (z)}}\n",
        "$$\n",
        "This avoids overflow when calculating the exponential"
      ]
    },
    {
      "cell_type": "code",
      "metadata": {
        "id": "7sptFHmanVFd",
        "outputId": "cd0709d0-117c-439f-c483-3496435007ed",
        "colab": {
          "base_uri": "https://localhost:8080/"
        }
      },
      "source": [
        "import numpy as np\n",
        "def softmax(z):\n",
        "    expz = np.exp(z - np.max(z))\n",
        "    return expz/expz.sum(axis = 0,keepdims=True)\n",
        "z = [1,2,5]\n",
        "z_2 = [[1,2,5],\n",
        "       [1,2,1]]\n",
        "print(softmax(z))\n",
        "print(softmax(z_2))\n"
      ],
      "execution_count": 5,
      "outputs": [
        {
          "output_type": "stream",
          "text": [
            "[0.01714783 0.04661262 0.93623955]\n",
            "[[0.5        0.5        0.98201379]\n",
            " [0.5        0.5        0.01798621]]\n"
          ],
          "name": "stdout"
        }
      ]
    },
    {
      "cell_type": "markdown",
      "metadata": {
        "id": "CxEHIX1inVFl"
      },
      "source": [
        "### Calculate the loss\n",
        "We are going to use cross-entropy to calculate the loss (check lecture 3.3 for a reminder)\n",
        "$$\n",
        "L=-\\sum_{i=0}^{c} y_{i} \\log a_{i}\n",
        "$$\n",
        "\n",
        "\n",
        "The gradient of the multiclass cross entropy is (here, I suggest you do the deduction, and remember your y is an element of {0,1}):\n",
        "$$\n",
        "\\frac{dL}{dz_i} = a_i - y_i\n",
        "$$\n",
        "(This is for one sample, and you need to calculate the mean for *m* samples)\n",
        "$\\frac{dL}{dz_i} =\\frac{1}{m} (a_i - y_i)$\n",
        "\n",
        "In the neural network, usually *m* is not all the data samples but the batch size of your data. In this example, we don't use batch, so each time we give all the data samples to our model."
      ]
    },
    {
      "cell_type": "markdown",
      "metadata": {
        "id": "47x6UuItnVFm"
      },
      "source": [
        "### Back propagation\n",
        "First let's write a matrix formula.\n",
        "\n",
        "Assume we have one hidden layer, so the parameters are $W_1,W_2,b_1,b_2$\n",
        "The hidden layer output is $A_1$\n",
        "\n",
        "The output layer result is $A_2$\n",
        "\n",
        "$A_2 = softmax(Z_2)$\n",
        "\n",
        "$Z_2 = W_2 A_1 +b_2$\n",
        "\n",
        "$A_1 = sigmoid(Z_1)$ (in the following we write sigmoid as $\\sigma$)\n",
        "\n",
        "$Z_1 = W_1 X+b_1$\n",
        "\n",
        "\n",
        "\n",
        "Then lets do the back propagation. \n",
        "Think of the chain rule you need to know, in following the gradient( take $W_2$ as an example)\n",
        "$\\frac{dL}{dW_2} = \\frac{dL}{dA_2} \\frac{dA_2}{dZ_2} \\frac{dZ_2}{dW_2}$.\n",
        "A trick for the softmax function is that we don't need to calculate $\\frac{dL}{dA_2}$, we can directly calculate$\\frac{dL}{dZ_2}$\n",
        "\n",
        "So we have:\n",
        "$$\n",
        "\\begin{aligned}\n",
        "\\frac{d L}{d W_2} &=\\frac{d L}{d Z_2} \\frac{d Z_2}{d W_2} \\\\\n",
        "&=\\left(A_2-Y\\right) \\frac{d}{d W_2}\\left(W_2A_1 +b_2\\right) \\\\\n",
        "&=\\left(A_2-Y\\right) A_1^T\n",
        "\\end{aligned}\n",
        "$$\n",
        "\n",
        "\n",
        "\n",
        "$$\n",
        "\\begin{aligned}\n",
        "\\frac{d L}{d W_1} &=\\frac{d L}{d Z_2} \\frac{d Z_2}{d A_1} \\frac{d A_1}{d Z_1} \\frac{d Z_1}{d W_1} \\\\\n",
        "&=\\left(A_2-Y\\right) \\frac{d}{d A_1}\\left(W_2A_1 +b_2\\right) \\\\\n",
        "& \\frac{d}{d Z_1}\\left(\\sigma\\left(Z_1\\right)\\right) \\frac{d}{d W_1}\\left(W_1A_0+b_1\\right) \\\\\n",
        "&=\\left(A_2-Y\\right) W_2 \\sigma^{\\prime}\\left(Z_1\\right) A_0^T\n",
        "\\end{aligned}\n",
        "$$\n",
        "\n",
        "$A_0$ is actually $X_{input}$ here if you have one hidden layer"
      ]
    },
    {
      "cell_type": "markdown",
      "metadata": {
        "id": "ZqsGrcNMnVFn"
      },
      "source": [
        "### Building our model (ICC assignment here)\n",
        "\n",
        "Please note that this takes a few minutes to train after you are finished coding."
      ]
    },
    {
      "cell_type": "code",
      "metadata": {
        "id": "tl5bcTPAnVFo",
        "outputId": "108eada2-be5e-4495-966d-56f6fef56ab7",
        "colab": {
          "base_uri": "https://localhost:8080/",
          "height": 661
        }
      },
      "source": [
        "import numpy as np\n",
        "import time\n",
        "\n",
        "class MyNeuralNet(object):\n",
        "    def __init__(self, input_size, hidden_size,output_size):\n",
        "        self.layers_shape = [input_size,hidden_size,output_size]\n",
        "        self.input_size = input_size\n",
        "        self.hidden_size = hidden_size\n",
        "        self.output_size = output_size\n",
        "        self.parameters = {}\n",
        "        self.costs = []\n",
        "        # n is total number of input samples\n",
        "        self.n = 0\n",
        "\n",
        "    @staticmethod\n",
        "    def sigmoid(z):\n",
        "        return 1 / (1 + np.exp(-z))\n",
        "\n",
        "    @staticmethod\n",
        "    def softmax(z):\n",
        "        expz = np.exp(z - np.max(z))\n",
        "        return expz / expz.sum(axis=0, keepdims=True)\n",
        "\n",
        "    @staticmethod\n",
        "    def sigmoid_derivative(z):\n",
        "        s = 1 / (1 + np.exp(-z))\n",
        "        return s * (1 - s)\n",
        "\n",
        "    def initialize(self):\n",
        "        np.random.seed(1)\n",
        "\n",
        "        for l in range(1, len(self.layers_shape)):\n",
        "            self.parameters[\"W\" + str(l)] = np.random.randn(self.layers_shape[l], self.layers_shape[l - 1]) / np.sqrt(\n",
        "                self.layers_shape[l - 1])\n",
        "            self.parameters[\"b\" + str(l)] = np.zeros((self.layers_shape[l], 1))\n",
        "\n",
        "    def forward(self, X):\n",
        "        store = {}\n",
        "\n",
        "        A = X.T\n",
        "        for l in range(2):#0,1\n",
        "            Z = self.parameters[\"W\" + str(l + 1)].dot(A) + self.parameters[\"b\" + str(l + 1)]\n",
        "            if l == 1:\n",
        "                A = self.softmax(Z)\n",
        "            else:\n",
        "                A = self.sigmoid(Z)\n",
        "\n",
        "            store[\"A\" + str(l + 1)] = A\n",
        "            store[\"W\" + str(l + 1)] = self.parameters[\"W\" + str(l + 1)]\n",
        "            store[\"Z\" + str(l + 1)] = Z\n",
        "\n",
        "        return A, store\n",
        "\n",
        "    def backward(self, X, Y, store):\n",
        "\n",
        "        derivatives = {}\n",
        "\n",
        "        store[\"A0\"] = X.T\n",
        "\n",
        "        A2 = store[\"A2\"]\n",
        "        dLdZ2 = A2 - Y.T\n",
        "\n",
        "        dW = dLdZ2.dot(store[\"A1\"].T) / self.n\n",
        "        db = np.sum(dLdZ2, axis=1, keepdims=True) / self.n\n",
        "        dAPrev = store[\"W2\"].T.dot(dLdZ2)\n",
        "\n",
        "        derivatives[\"dW2\"] = dW\n",
        "        derivatives[\"db2\"] = db\n",
        "\n",
        "        dLdZ1 = dAPrev * self.sigmoid_derivative(store[\"Z1\"])\n",
        "\n",
        "        ############################# ICC PART A ###########################\n",
        "        dW = 9999.9999\n",
        "        db = 9999.9999\n",
        "        ####################################################################\n",
        "\n",
        "\n",
        "        derivatives[\"dW1\"] = dW\n",
        "        derivatives[\"db1\"] = db\n",
        "\n",
        "        return derivatives\n",
        "\n",
        "    def fit(self, X, Y, learning_rate=0.01, n_iterations=1000):\n",
        "        np.random.seed(1)\n",
        "\n",
        "        self.n = X.shape[0]\n",
        "        # Insert the input shape\n",
        "        if X.shape[1] != self.input_size:\n",
        "            raise ValueError('Input shape must be the same')\n",
        "\n",
        "        self.initialize()\n",
        "        time_start = time.time()\n",
        "        for loop in range(n_iterations):\n",
        "            A, store = self.forward(X)\n",
        "            # avoid log 0\n",
        "            cost = -np.mean(Y * np.log(A.T + 1e-8))\n",
        "            derivatives = self.backward(X, Y, store)\n",
        "\n",
        "            for l in range(1, 3):  # 1, 2\n",
        "                ###################### ICC PART B ###########################\n",
        "                self.parameters[\"W\" + str(l)] = 9999.9999\n",
        "                self.parameters[\"b\" + str(l)] = 9999.9999\n",
        "                #############################################################\n",
        "\n",
        "            if loop % 100 == 0:\n",
        "                print(\"Cost: \", cost, \"Train Accuracy:\", self.predict(X, Y))\n",
        "                print(\"Time cost: \", time.time() - time_start)\n",
        "\n",
        "            if loop % 10 == 0:\n",
        "                self.costs.append(cost)\n",
        "\n",
        "    def predict(self, X, Y):\n",
        "        A, cache = self.forward(X)\n",
        "        y_hat = np.argmax(A, axis=0)\n",
        "        Y = np.argmax(Y, axis=1)\n",
        "        accuracy = (y_hat == Y).mean()\n",
        "        return accuracy * 100\n",
        "    \n",
        "    def plot_cost(self):\n",
        "        plt.figure()\n",
        "        plt.plot(np.arange(len(self.costs)), self.costs)\n",
        "        plt.xlabel(\"epochs\")\n",
        "        plt.ylabel(\"cost\")\n",
        "        plt.show()\n",
        "    \n",
        "\n",
        "ann = MyNeuralNet(784,64,10)\n",
        "ann.fit(x_train, y_train, learning_rate=0.1, n_iterations=1000)\n",
        "print(\"Train Accuracy:\", ann.predict(x_train, y_train))\n",
        "print(\"Test Accuracy:\", ann.predict(x_test, y_test))\n",
        "ann.plot_cost()"
      ],
      "execution_count": 6,
      "outputs": [
        {
          "output_type": "stream",
          "text": [
            "Cost:  0.23863081470524444 Train Accuracy: 10.084033613445378\n",
            "Time cost:  1.4662916660308838\n",
            "Cost:  0.16222181706237046 Train Accuracy: 71.29747899159665\n",
            "Time cost:  100.41966891288757\n",
            "Cost:  0.1069143294864471 Train Accuracy: 79.65042016806723\n",
            "Time cost:  199.74599289894104\n",
            "Cost:  0.08003436705163436 Train Accuracy: 83.7546218487395\n",
            "Time cost:  298.98397278785706\n",
            "Cost:  0.0657862994395997 Train Accuracy: 85.68403361344538\n",
            "Time cost:  397.96496772766113\n",
            "Cost:  0.057153475778237275 Train Accuracy: 86.91932773109244\n",
            "Time cost:  497.5666778087616\n",
            "Cost:  0.05140419175806475 Train Accuracy: 87.7781512605042\n",
            "Time cost:  601.4227890968323\n",
            "Cost:  0.04731377847994538 Train Accuracy: 88.41344537815125\n",
            "Time cost:  700.2796423435211\n",
            "Cost:  0.04426077395771526 Train Accuracy: 88.87226890756303\n",
            "Time cost:  798.8587193489075\n",
            "Cost:  0.041896262656567505 Train Accuracy: 89.17310924369748\n",
            "Time cost:  895.4199492931366\n",
            "Train Accuracy: 89.46890756302521\n",
            "Test Accuracy: 88.8\n"
          ],
          "name": "stdout"
        },
        {
          "output_type": "display_data",
          "data": {
            "image/png": "[encoded data removed]",
            "text/plain": [
              "<Figure size 432x288 with 1 Axes>"
            ]
          },
          "metadata": {
            "tags": [],
            "needs_background": "light"
          }
        }
      ]
    },
    {
      "cell_type": "markdown",
      "metadata": {
        "id": "c3HF2oT0nVFu"
      },
      "source": [
        "## Tensorflow\n",
        "Congratulations!  You've built your own neural net model!\n",
        "\n",
        "After going through this exercise, you have probably found that it's really hard to build a model from scratch (especially one that runs quickly!). Frotunately there are some powerful tools available to us for building complicated models that train very quickly.\n",
        "\n",
        "[Tensorflow](https://www.tensorflow.org/) is one of the most famous ones around.\n",
        "Here we give an example of using the tensorflow library. We are going to start by loading the dataset to see how simple tensorflow is to train a model.\n",
        "\n",
        "You can find the original code [here](https://www.tensorflow.org/tutorials/quickstart/beginner)\n",
        "\n",
        "PS. Remember to install the tensorflow first if you're not using colab.\n",
        "\n",
        "!pip install tensorflow\n",
        "\n"
      ]
    },
    {
      "cell_type": "code",
      "metadata": {
        "id": "x7fqHDH7nVFv",
        "outputId": "3c034549-9f80-4356-ddb0-4d8cbc3b73b3",
        "colab": {
          "base_uri": "https://localhost:8080/"
        }
      },
      "source": [
        "import tensorflow as tf\n",
        "\n",
        "mnist = tf.keras.datasets.mnist\n",
        "\n",
        "(x_train, y_train), (x_test, y_test) = mnist.load_data()\n",
        "x_train, x_test = x_train / 255.0, x_test / 255.0\n",
        "\n",
        "# Notice this data the y is still (m,1) vector x is still(m,28,28) vector so the data is really raw data\n",
        "model = tf.keras.models.Sequential([\n",
        "  tf.keras.layers.Flatten(input_shape=(28, 28)),\n",
        "  tf.keras.layers.Dense(64, activation='sigmoid'),\n",
        "  tf.keras.layers.Dense(10)\n",
        "])\n",
        "# We don't need to do onehot ourselves\n",
        "loss_fn = tf.keras.losses.SparseCategoricalCrossentropy(from_logits=True)\n",
        "\n",
        "# You may have heard of the adam algorithm, which is an optimized gradient descent method\n",
        "model.compile(optimizer='adam',\n",
        "              loss=loss_fn,\n",
        "              metrics=['accuracy'])\n",
        "model.fit(x_train, y_train, epochs=10)\n",
        "# You could check how to evaluate from that website"
      ],
      "execution_count": 7,
      "outputs": [
        {
          "output_type": "stream",
          "text": [
            "Downloading data from https://storage.googleapis.com/tensorflow/tf-keras-datasets/mnist.npz\n",
            "11493376/11490434 [==============================] - 0s 0us/step\n",
            "Epoch 1/10\n",
            "1875/1875 [==============================] - 3s 2ms/step - loss: 0.4581 - accuracy: 0.8874\n",
            "Epoch 2/10\n",
            "1875/1875 [==============================] - 3s 1ms/step - loss: 0.2204 - accuracy: 0.9377\n",
            "Epoch 3/10\n",
            "1875/1875 [==============================] - 3s 1ms/step - loss: 0.1711 - accuracy: 0.9504\n",
            "Epoch 4/10\n",
            "1875/1875 [==============================] - 3s 2ms/step - loss: 0.1399 - accuracy: 0.9601\n",
            "Epoch 5/10\n",
            "1875/1875 [==============================] - 3s 1ms/step - loss: 0.1177 - accuracy: 0.9663\n",
            "Epoch 6/10\n",
            "1875/1875 [==============================] - 3s 2ms/step - loss: 0.1014 - accuracy: 0.9707\n",
            "Epoch 7/10\n",
            "1875/1875 [==============================] - 3s 1ms/step - loss: 0.0890 - accuracy: 0.9748\n",
            "Epoch 8/10\n",
            "1875/1875 [==============================] - 3s 2ms/step - loss: 0.0789 - accuracy: 0.9777\n",
            "Epoch 9/10\n",
            "1875/1875 [==============================] - 3s 1ms/step - loss: 0.0700 - accuracy: 0.9805\n",
            "Epoch 10/10\n",
            "1875/1875 [==============================] - 3s 1ms/step - loss: 0.0628 - accuracy: 0.9830\n"
          ],
          "name": "stdout"
        },
        {
          "output_type": "execute_result",
          "data": {
            "text/plain": [
              "<tensorflow.python.keras.callbacks.History at 0x7f8bb7913e48>"
            ]
          },
          "metadata": {
            "tags": []
          },
          "execution_count": 7
        }
      ]
    },
    {
      "cell_type": "markdown",
      "metadata": {
        "id": "W8YMNJgrnVF2"
      },
      "source": [
        "## Pytorch\n",
        "In addition to Tensorflow, another very popular and useful library is [Pytorch](https://pytorch.org/). Here is the same [example](https://pytorch.org/tutorials/beginner/nn_tutorial.html?highlight=mnist), but now implemented with the Pytorch library for your reference.\n",
        "\n",
        "Now, go forth and build great models!"
      ]
    },
    {
      "cell_type": "code",
      "metadata": {
        "id": "_J6swqwSnVF3"
      },
      "source": [
        ""
      ],
      "execution_count": 7,
      "outputs": []
    }
  ]
}